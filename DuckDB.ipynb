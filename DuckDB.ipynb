{
 "cells": [
  {
   "cell_type": "code",
   "execution_count": 23,
   "id": "c40a9797-61b6-477f-9011-f15efa7c6eae",
   "metadata": {
    "execution": {
     "iopub.execute_input": "2024-12-30T06:58:43.837120Z",
     "iopub.status.busy": "2024-12-30T06:58:43.836013Z",
     "iopub.status.idle": "2024-12-30T06:58:45.221597Z",
     "shell.execute_reply": "2024-12-30T06:58:45.220113Z",
     "shell.execute_reply.started": "2024-12-30T06:58:43.837069Z"
    }
   },
   "outputs": [
    {
     "name": "stdout",
     "output_type": "stream",
     "text": [
      "Defaulting to user installation because normal site-packages is not writeable\n",
      "Requirement already satisfied: duckdb in ./.local/lib/python3.12/site-packages (1.1.3)\n"
     ]
    }
   ],
   "source": [
    "! pip install duckdb\n",
    "! pip install IPython"
   ]
  },
  {
   "cell_type": "code",
   "execution_count": 24,
   "id": "329125f0-fc56-47ef-9fd6-0721f9fcc658",
   "metadata": {
    "execution": {
     "iopub.execute_input": "2024-12-30T06:58:45.225589Z",
     "iopub.status.busy": "2024-12-30T06:58:45.224460Z",
     "iopub.status.idle": "2024-12-30T06:58:45.325981Z",
     "shell.execute_reply": "2024-12-30T06:58:45.325115Z",
     "shell.execute_reply.started": "2024-12-30T06:58:45.225529Z"
    }
   },
   "outputs": [],
   "source": [
    "import pandas as pd\n",
    "import glob\n",
    "import time\n",
    "import duckdb\n",
    "from IPython import get_ipython\n",
    " \n",
    "\n",
    "conn = duckdb.connect() # create an in-memory database"
   ]
  },
  {
   "cell_type": "code",
   "execution_count": 25,
   "id": "a8c01565-cbf9-43b1-9d37-e725ab75e1a6",
   "metadata": {
    "execution": {
     "iopub.execute_input": "2024-12-30T06:58:45.327031Z",
     "iopub.status.busy": "2024-12-30T06:58:45.326807Z",
     "iopub.status.idle": "2024-12-30T06:58:46.942306Z",
     "shell.execute_reply": "2024-12-30T06:58:46.940788Z",
     "shell.execute_reply.started": "2024-12-30T06:58:45.327010Z"
    }
   },
   "outputs": [
    {
     "name": "stdout",
     "output_type": "stream",
     "text": [
      "Defaulting to user installation because normal site-packages is not writeable\n",
      "Requirement already satisfied: pandas in /opt/conda/lib/python3.12/site-packages (2.2.3)\n",
      "Requirement already satisfied: numpy>=1.26.0 in /opt/conda/lib/python3.12/site-packages (from pandas) (2.0.2)\n",
      "Requirement already satisfied: python-dateutil>=2.8.2 in /opt/conda/lib/python3.12/site-packages (from pandas) (2.9.0)\n",
      "Requirement already satisfied: pytz>=2020.1 in /opt/conda/lib/python3.12/site-packages (from pandas) (2024.1)\n",
      "Requirement already satisfied: tzdata>=2022.7 in /opt/conda/lib/python3.12/site-packages (from pandas) (2024.2)\n",
      "Requirement already satisfied: six>=1.5 in /opt/conda/lib/python3.12/site-packages (from python-dateutil>=2.8.2->pandas) (1.16.0)\n"
     ]
    }
   ],
   "source": [
    "!pip install pandas\n"
   ]
  },
  {
   "cell_type": "code",
   "execution_count": 26,
   "id": "e6682e32-3db3-4b45-8dd6-255414368517",
   "metadata": {
    "execution": {
     "iopub.execute_input": "2024-12-30T06:58:46.945049Z",
     "iopub.status.busy": "2024-12-30T06:58:46.944291Z",
     "iopub.status.idle": "2024-12-30T06:58:47.499184Z",
     "shell.execute_reply": "2024-12-30T06:58:47.498346Z",
     "shell.execute_reply.started": "2024-12-30T06:58:46.944987Z"
    }
   },
   "outputs": [
    {
     "name": "stdout",
     "output_type": "stream",
     "text": [
      "time: 0.5435762405395508\n",
      "   Order ID                     Product  Quantity Ordered     Price  \\\n",
      "0    176558        USB-C Charging Cable                 2     11.95   \n",
      "1    176559  Bose SoundSport Headphones                 1     99.99   \n",
      "2    176560                Google Phone                 1       600   \n",
      "3    176560            Wired Headphones                 1     11.99   \n",
      "4    176561            Wired Headphones                 1     11.99   \n",
      "5    176562        USB-C Charging Cable                 1     11.95   \n",
      "6    176563  Bose SoundSport Headphones                 1     99.99   \n",
      "7    176564        USB-C Charging Cable                 1     11.95   \n",
      "8    176565          Macbook Pro Laptop                 1  1,700.00   \n",
      "9    176566            Wired Headphones                 1     11.99   \n",
      "\n",
      "   Order Date      Time                        Purchase Address  \\\n",
      "0  19-04-2019   8:46 AM            917 1st St, Dallas, TX 75001   \n",
      "1  07-04-2019  10:30 PM       682 Chestnut St, Boston, MA 02215   \n",
      "2  12-04-2019   2:38 PM    669 Spruce St, Los Angeles, CA 90001   \n",
      "3  12-04-2019   2:38 PM    669 Spruce St, Los Angeles, CA 90001   \n",
      "4  30-04-2019   9:27 AM       333 8th St, Los Angeles, CA 90001   \n",
      "5  29-04-2019   1:03 PM  381 Wilson St, San Francisco, CA 94016   \n",
      "6  02-04-2019   7:46 AM        668 Center St, Seattle, WA 98101   \n",
      "7  12-04-2019  10:58 AM         790 Ridge St, Atlanta, GA 30301   \n",
      "8  24-04-2019  10:38 AM  915 Willow St, San Francisco, CA 94016   \n",
      "9  08-04-2019   2:05 PM             83 7th St, Boston, MA 02215   \n",
      "\n",
      "             City Product Type  \n",
      "0          Dallas        Cable  \n",
      "1          Boston   Headphones  \n",
      "2     Los Angeles        Phone  \n",
      "3     Los Angeles   Headphones  \n",
      "4     Los Angeles   Headphones  \n",
      "5   San Francisco        Cable  \n",
      "6         Seattle   Headphones  \n",
      "7         Atlanta        Cable  \n",
      "8   San Francisco       Laptop  \n",
      "9          Boston   Headphones  \n"
     ]
    }
   ],
   "source": [
    "# with pandas\n",
    "cur_time = time.time()\n",
    "df = pd.concat([pd.read_csv(f) for f in glob.glob('*.csv')])\n",
    "print(f\"time: {(time.time() - cur_time)}\")\n",
    "print(df.head(10))"
   ]
  },
  {
   "cell_type": "code",
   "execution_count": 27,
   "id": "c1e66512-a8d7-4a60-9ae6-e6acc654ca2f",
   "metadata": {
    "execution": {
     "iopub.execute_input": "2024-12-30T06:58:47.500899Z",
     "iopub.status.busy": "2024-12-30T06:58:47.500681Z",
     "iopub.status.idle": "2024-12-30T06:58:47.568732Z",
     "shell.execute_reply": "2024-12-30T06:58:47.567922Z",
     "shell.execute_reply.started": "2024-12-30T06:58:47.500878Z"
    }
   },
   "outputs": [
    {
     "name": "stdout",
     "output_type": "stream",
     "text": [
      "time: 0.06060910224914551\n",
      "   Order ID                     Product  Quantity Ordered     Price  \\\n",
      "0    176558        USB-C Charging Cable                 2     11.95   \n",
      "1    176559  Bose SoundSport Headphones                 1     99.99   \n",
      "2    176560                Google Phone                 1       600   \n",
      "3    176560            Wired Headphones                 1     11.99   \n",
      "4    176561            Wired Headphones                 1     11.99   \n",
      "5    176562        USB-C Charging Cable                 1     11.95   \n",
      "6    176563  Bose SoundSport Headphones                 1     99.99   \n",
      "7    176564        USB-C Charging Cable                 1     11.95   \n",
      "8    176565          Macbook Pro Laptop                 1  1,700.00   \n",
      "9    176566            Wired Headphones                 1     11.99   \n",
      "\n",
      "  Order Date      Time                        Purchase Address  \\\n",
      "0 2019-04-19   8:46 AM            917 1st St, Dallas, TX 75001   \n",
      "1 2019-04-07  10:30 PM       682 Chestnut St, Boston, MA 02215   \n",
      "2 2019-04-12   2:38 PM    669 Spruce St, Los Angeles, CA 90001   \n",
      "3 2019-04-12   2:38 PM    669 Spruce St, Los Angeles, CA 90001   \n",
      "4 2019-04-30   9:27 AM       333 8th St, Los Angeles, CA 90001   \n",
      "5 2019-04-29   1:03 PM  381 Wilson St, San Francisco, CA 94016   \n",
      "6 2019-04-02   7:46 AM        668 Center St, Seattle, WA 98101   \n",
      "7 2019-04-12  10:58 AM         790 Ridge St, Atlanta, GA 30301   \n",
      "8 2019-04-24  10:38 AM  915 Willow St, San Francisco, CA 94016   \n",
      "9 2019-04-08   2:05 PM             83 7th St, Boston, MA 02215   \n",
      "\n",
      "             City Product Type  \n",
      "0          Dallas        Cable  \n",
      "1          Boston   Headphones  \n",
      "2     Los Angeles        Phone  \n",
      "3     Los Angeles   Headphones  \n",
      "4     Los Angeles   Headphones  \n",
      "5   San Francisco        Cable  \n",
      "6         Seattle   Headphones  \n",
      "7         Atlanta        Cable  \n",
      "8   San Francisco       Laptop  \n",
      "9          Boston   Headphones  \n"
     ]
    }
   ],
   "source": [
    "# with duckdb\n",
    "cur_time = time.time()\n",
    "df = conn.execute(\"\"\"\n",
    "\tSELECT *\n",
    "\tFROM '*.csv'\n",
    "\tLIMIT 10\n",
    "\"\"\").df()\n",
    "print(f\"time: {(time.time() - cur_time)}\")\n",
    "print(df)"
   ]
  },
  {
   "cell_type": "code",
   "execution_count": 28,
   "id": "b4748434-1ba6-4e9a-8488-a2cc824b5649",
   "metadata": {
    "execution": {
     "iopub.execute_input": "2024-12-30T06:58:47.569666Z",
     "iopub.status.busy": "2024-12-30T06:58:47.569454Z",
     "iopub.status.idle": "2024-12-30T06:58:47.949350Z",
     "shell.execute_reply": "2024-12-30T06:58:47.948522Z",
     "shell.execute_reply.started": "2024-12-30T06:58:47.569639Z"
    }
   },
   "outputs": [
    {
     "data": {
      "text/html": [
       "<div>\n",
       "<style scoped>\n",
       "    .dataframe tbody tr th:only-of-type {\n",
       "        vertical-align: middle;\n",
       "    }\n",
       "\n",
       "    .dataframe tbody tr th {\n",
       "        vertical-align: top;\n",
       "    }\n",
       "\n",
       "    .dataframe thead th {\n",
       "        text-align: right;\n",
       "    }\n",
       "</style>\n",
       "<table border=\"1\" class=\"dataframe\">\n",
       "  <thead>\n",
       "    <tr style=\"text-align: right;\">\n",
       "      <th></th>\n",
       "      <th>column_name</th>\n",
       "      <th>column_type</th>\n",
       "      <th>null</th>\n",
       "      <th>key</th>\n",
       "      <th>default</th>\n",
       "      <th>extra</th>\n",
       "    </tr>\n",
       "  </thead>\n",
       "  <tbody>\n",
       "    <tr>\n",
       "      <th>0</th>\n",
       "      <td>Order ID</td>\n",
       "      <td>BIGINT</td>\n",
       "      <td>YES</td>\n",
       "      <td>None</td>\n",
       "      <td>None</td>\n",
       "      <td>None</td>\n",
       "    </tr>\n",
       "    <tr>\n",
       "      <th>1</th>\n",
       "      <td>Product</td>\n",
       "      <td>VARCHAR</td>\n",
       "      <td>YES</td>\n",
       "      <td>None</td>\n",
       "      <td>None</td>\n",
       "      <td>None</td>\n",
       "    </tr>\n",
       "    <tr>\n",
       "      <th>2</th>\n",
       "      <td>Quantity Ordered</td>\n",
       "      <td>BIGINT</td>\n",
       "      <td>YES</td>\n",
       "      <td>None</td>\n",
       "      <td>None</td>\n",
       "      <td>None</td>\n",
       "    </tr>\n",
       "    <tr>\n",
       "      <th>3</th>\n",
       "      <td>Price</td>\n",
       "      <td>VARCHAR</td>\n",
       "      <td>YES</td>\n",
       "      <td>None</td>\n",
       "      <td>None</td>\n",
       "      <td>None</td>\n",
       "    </tr>\n",
       "    <tr>\n",
       "      <th>4</th>\n",
       "      <td>Order Date</td>\n",
       "      <td>TIMESTAMP</td>\n",
       "      <td>YES</td>\n",
       "      <td>None</td>\n",
       "      <td>None</td>\n",
       "      <td>None</td>\n",
       "    </tr>\n",
       "    <tr>\n",
       "      <th>5</th>\n",
       "      <td>Time</td>\n",
       "      <td>VARCHAR</td>\n",
       "      <td>YES</td>\n",
       "      <td>None</td>\n",
       "      <td>None</td>\n",
       "      <td>None</td>\n",
       "    </tr>\n",
       "    <tr>\n",
       "      <th>6</th>\n",
       "      <td>Purchase Address</td>\n",
       "      <td>VARCHAR</td>\n",
       "      <td>YES</td>\n",
       "      <td>None</td>\n",
       "      <td>None</td>\n",
       "      <td>None</td>\n",
       "    </tr>\n",
       "    <tr>\n",
       "      <th>7</th>\n",
       "      <td>City</td>\n",
       "      <td>VARCHAR</td>\n",
       "      <td>YES</td>\n",
       "      <td>None</td>\n",
       "      <td>None</td>\n",
       "      <td>None</td>\n",
       "    </tr>\n",
       "    <tr>\n",
       "      <th>8</th>\n",
       "      <td>Product Type</td>\n",
       "      <td>VARCHAR</td>\n",
       "      <td>YES</td>\n",
       "      <td>None</td>\n",
       "      <td>None</td>\n",
       "      <td>None</td>\n",
       "    </tr>\n",
       "  </tbody>\n",
       "</table>\n",
       "</div>"
      ],
      "text/plain": [
       "        column_name column_type null   key default extra\n",
       "0          Order ID      BIGINT  YES  None    None  None\n",
       "1           Product     VARCHAR  YES  None    None  None\n",
       "2  Quantity Ordered      BIGINT  YES  None    None  None\n",
       "3             Price     VARCHAR  YES  None    None  None\n",
       "4        Order Date   TIMESTAMP  YES  None    None  None\n",
       "5              Time     VARCHAR  YES  None    None  None\n",
       "6  Purchase Address     VARCHAR  YES  None    None  None\n",
       "7              City     VARCHAR  YES  None    None  None\n",
       "8      Product Type     VARCHAR  YES  None    None  None"
      ]
     },
     "execution_count": 28,
     "metadata": {},
     "output_type": "execute_result"
    }
   ],
   "source": [
    "df = conn.execute(\"\"\"\n",
    "\tSELECT *\n",
    "\tFROM '*.csv'\n",
    "\"\"\").df()\n",
    "conn.register(\"df_view\", df)\n",
    "conn.execute(\"DESCRIBE df_view\").df() # doesn't work if you don't register df as a virtual table"
   ]
  },
  {
   "cell_type": "code",
   "execution_count": 29,
   "id": "b153e77e-d416-4b01-896f-8fb5ab03e3e1",
   "metadata": {
    "execution": {
     "iopub.execute_input": "2024-12-30T06:58:47.950349Z",
     "iopub.status.busy": "2024-12-30T06:58:47.950132Z",
     "iopub.status.idle": "2024-12-30T06:58:47.964856Z",
     "shell.execute_reply": "2024-12-30T06:58:47.963991Z",
     "shell.execute_reply.started": "2024-12-30T06:58:47.950330Z"
    }
   },
   "outputs": [
    {
     "data": {
      "text/html": [
       "<div>\n",
       "<style scoped>\n",
       "    .dataframe tbody tr th:only-of-type {\n",
       "        vertical-align: middle;\n",
       "    }\n",
       "\n",
       "    .dataframe tbody tr th {\n",
       "        vertical-align: top;\n",
       "    }\n",
       "\n",
       "    .dataframe thead th {\n",
       "        text-align: right;\n",
       "    }\n",
       "</style>\n",
       "<table border=\"1\" class=\"dataframe\">\n",
       "  <thead>\n",
       "    <tr style=\"text-align: right;\">\n",
       "      <th></th>\n",
       "      <th>count_star()</th>\n",
       "    </tr>\n",
       "  </thead>\n",
       "  <tbody>\n",
       "    <tr>\n",
       "      <th>0</th>\n",
       "      <td>185950</td>\n",
       "    </tr>\n",
       "  </tbody>\n",
       "</table>\n",
       "</div>"
      ],
      "text/plain": [
       "   count_star()\n",
       "0        185950"
      ]
     },
     "execution_count": 29,
     "metadata": {},
     "output_type": "execute_result"
    }
   ],
   "source": [
    "conn.execute(\"SELECT COUNT(*) FROM df_view\").df()"
   ]
  },
  {
   "cell_type": "code",
   "execution_count": 30,
   "id": "92419f28-5e74-4377-bfe8-dc9f18308e01",
   "metadata": {
    "execution": {
     "iopub.execute_input": "2024-12-30T06:58:47.966098Z",
     "iopub.status.busy": "2024-12-30T06:58:47.965764Z",
     "iopub.status.idle": "2024-12-30T06:58:48.100291Z",
     "shell.execute_reply": "2024-12-30T06:58:48.099544Z",
     "shell.execute_reply.started": "2024-12-30T06:58:47.966067Z"
    }
   },
   "outputs": [
    {
     "data": {
      "text/html": [
       "<div>\n",
       "<style scoped>\n",
       "    .dataframe tbody tr th:only-of-type {\n",
       "        vertical-align: middle;\n",
       "    }\n",
       "\n",
       "    .dataframe tbody tr th {\n",
       "        vertical-align: top;\n",
       "    }\n",
       "\n",
       "    .dataframe thead th {\n",
       "        text-align: right;\n",
       "    }\n",
       "</style>\n",
       "<table border=\"1\" class=\"dataframe\">\n",
       "  <thead>\n",
       "    <tr style=\"text-align: right;\">\n",
       "      <th></th>\n",
       "      <th>count_star()</th>\n",
       "    </tr>\n",
       "  </thead>\n",
       "  <tbody>\n",
       "    <tr>\n",
       "      <th>0</th>\n",
       "      <td>185950</td>\n",
       "    </tr>\n",
       "  </tbody>\n",
       "</table>\n",
       "</div>"
      ],
      "text/plain": [
       "   count_star()\n",
       "0        185950"
      ]
     },
     "execution_count": 30,
     "metadata": {},
     "output_type": "execute_result"
    }
   ],
   "source": [
    "df.isnull().sum()\n",
    "df = df.dropna(how='all')\n",
    "\n",
    "# Notice we use df and not df_view\n",
    "# With DuckDB you can run SQL queries on top of Pandas dataframes\n",
    "conn.execute(\"SELECT COUNT(*) FROM df\").df()"
   ]
  },
  {
   "cell_type": "code",
   "execution_count": 31,
   "id": "da8abbce-6eec-4f5c-bff9-4688bc54afed",
   "metadata": {
    "execution": {
     "iopub.execute_input": "2024-12-30T06:58:48.101072Z",
     "iopub.status.busy": "2024-12-30T06:58:48.100877Z",
     "iopub.status.idle": "2024-12-30T06:58:48.257700Z",
     "shell.execute_reply": "2024-12-30T06:58:48.256918Z",
     "shell.execute_reply.started": "2024-12-30T06:58:48.101053Z"
    }
   },
   "outputs": [
    {
     "data": {
      "text/html": [
       "<div>\n",
       "<style scoped>\n",
       "    .dataframe tbody tr th:only-of-type {\n",
       "        vertical-align: middle;\n",
       "    }\n",
       "\n",
       "    .dataframe tbody tr th {\n",
       "        vertical-align: top;\n",
       "    }\n",
       "\n",
       "    .dataframe thead th {\n",
       "        text-align: right;\n",
       "    }\n",
       "</style>\n",
       "<table border=\"1\" class=\"dataframe\">\n",
       "  <thead>\n",
       "    <tr style=\"text-align: right;\">\n",
       "      <th></th>\n",
       "      <th>count_star()</th>\n",
       "    </tr>\n",
       "  </thead>\n",
       "  <tbody>\n",
       "    <tr>\n",
       "      <th>0</th>\n",
       "      <td>185950</td>\n",
       "    </tr>\n",
       "  </tbody>\n",
       "</table>\n",
       "</div>"
      ],
      "text/plain": [
       "   count_star()\n",
       "0        185950"
      ]
     },
     "execution_count": 31,
     "metadata": {},
     "output_type": "execute_result"
    }
   ],
   "source": [
    "df.isnull().sum()\n",
    "df = df.dropna(how='all')\n",
    "\n",
    "# Notice we use df and not df_view\n",
    "# With DuckDB you can run SQL queries on top of Pandas dataframes\n",
    "conn.execute(\"SELECT COUNT(*) FROM df\").df()"
   ]
  },
  {
   "cell_type": "code",
   "execution_count": 32,
   "id": "463cd0e2-9813-453a-8b5a-9347244c1ad2",
   "metadata": {
    "execution": {
     "iopub.execute_input": "2024-12-30T06:58:48.258600Z",
     "iopub.status.busy": "2024-12-30T06:58:48.258394Z",
     "iopub.status.idle": "2024-12-30T06:58:48.294626Z",
     "shell.execute_reply": "2024-12-30T06:58:48.293864Z",
     "shell.execute_reply.started": "2024-12-30T06:58:48.258580Z"
    }
   },
   "outputs": [
    {
     "data": {
      "text/html": [
       "<div>\n",
       "<style scoped>\n",
       "    .dataframe tbody tr th:only-of-type {\n",
       "        vertical-align: middle;\n",
       "    }\n",
       "\n",
       "    .dataframe tbody tr th {\n",
       "        vertical-align: top;\n",
       "    }\n",
       "\n",
       "    .dataframe thead th {\n",
       "        text-align: right;\n",
       "    }\n",
       "</style>\n",
       "<table border=\"1\" class=\"dataframe\">\n",
       "  <thead>\n",
       "    <tr style=\"text-align: right;\">\n",
       "      <th></th>\n",
       "      <th>Order ID</th>\n",
       "      <th>Product</th>\n",
       "      <th>Quantity Ordered</th>\n",
       "      <th>Price</th>\n",
       "      <th>Order Date</th>\n",
       "      <th>Time</th>\n",
       "      <th>Purchase Address</th>\n",
       "      <th>City</th>\n",
       "      <th>Product Type</th>\n",
       "    </tr>\n",
       "  </thead>\n",
       "  <tbody>\n",
       "    <tr>\n",
       "      <th>0</th>\n",
       "      <td>295665</td>\n",
       "      <td>Macbook Pro Laptop</td>\n",
       "      <td>1</td>\n",
       "      <td>1,700.00</td>\n",
       "      <td>2019-12-30</td>\n",
       "      <td>12:01 AM</td>\n",
       "      <td>136 Church St, New York City, NY 10001</td>\n",
       "      <td>New York City</td>\n",
       "      <td>Laptop</td>\n",
       "    </tr>\n",
       "  </tbody>\n",
       "</table>\n",
       "</div>"
      ],
      "text/plain": [
       "   Order ID             Product  Quantity Ordered     Price Order Date  \\\n",
       "0    295665  Macbook Pro Laptop                 1  1,700.00 2019-12-30   \n",
       "\n",
       "       Time                        Purchase Address            City  \\\n",
       "0  12:01 AM  136 Church St, New York City, NY 10001   New York City   \n",
       "\n",
       "  Product Type  \n",
       "0       Laptop  "
      ]
     },
     "execution_count": 32,
     "metadata": {},
     "output_type": "execute_result"
    }
   ],
   "source": [
    "\n",
    "conn.execute(\"\"\"SELECT * FROM df WHERE \"Order ID\"='295665'\"\"\").df()\n"
   ]
  },
  {
   "cell_type": "code",
   "execution_count": 37,
   "id": "58cb8cd4-f684-48c2-9254-0389a2452c53",
   "metadata": {
    "execution": {
     "iopub.execute_input": "2024-12-30T07:09:31.597016Z",
     "iopub.status.busy": "2024-12-30T07:09:31.595850Z",
     "iopub.status.idle": "2024-12-30T07:09:31.709403Z",
     "shell.execute_reply": "2024-12-30T07:09:31.708556Z",
     "shell.execute_reply.started": "2024-12-30T07:09:31.596964Z"
    }
   },
   "outputs": [
    {
     "name": "stdout",
     "output_type": "stream",
     "text": [
      "Order ID                     int64\n",
      "Product                     object\n",
      "Quantity Ordered             int64\n",
      "Price                       object\n",
      "Order Date          datetime64[us]\n",
      "Time                        object\n",
      "Purchase Address            object\n",
      "City                        object\n",
      "Product Type                object\n",
      "dtype: object\n"
     ]
    }
   ],
   "source": [
    "print(df.dtypes)\n",
    "df[\"Price\"] = df[\"Price\"].str.replace(\",\", \"\").astype(float)\n"
   ]
  },
  {
   "cell_type": "code",
   "execution_count": 38,
   "id": "c4064ae2-b470-44f2-99ff-2b3b1b1abc9f",
   "metadata": {
    "execution": {
     "iopub.execute_input": "2024-12-30T07:09:37.998707Z",
     "iopub.status.busy": "2024-12-30T07:09:37.998375Z",
     "iopub.status.idle": "2024-12-30T07:09:38.099502Z",
     "shell.execute_reply": "2024-12-30T07:09:38.098752Z",
     "shell.execute_reply.started": "2024-12-30T07:09:37.998681Z"
    }
   },
   "outputs": [
    {
     "data": {
      "text/plain": [
       "<duckdb.duckdb.DuckDBPyConnection at 0x7e7ba6bf6630>"
      ]
     },
     "execution_count": 38,
     "metadata": {},
     "output_type": "execute_result"
    }
   ],
   "source": [
    "conn.execute(\"\"\"\n",
    "CREATE OR REPLACE TABLE sales AS\n",
    "SELECT\n",
    "    \"Order ID\"::INTEGER AS order_id,\n",
    "    Product AS product,\n",
    "    \"Quantity Ordered\"::INTEGER AS quantity,\n",
    "    \"Price\"::DECIMAL AS price_each,\n",
    "    \"Order Date\"::DATE AS order_date,\n",
    "    \"Purchase Address\" AS purchase_address\n",
    "FROM df\n",
    "WHERE\n",
    "    TRY_CAST(\"Order ID\" AS INTEGER) NOTNULL\n",
    "\n",
    "\"\"\")"
   ]
  },
  {
   "cell_type": "code",
   "execution_count": 39,
   "id": "8fab9e37-c009-428f-a552-a70d778c300f",
   "metadata": {
    "execution": {
     "iopub.execute_input": "2024-12-30T07:10:31.115144Z",
     "iopub.status.busy": "2024-12-30T07:10:31.114788Z",
     "iopub.status.idle": "2024-12-30T07:10:31.251581Z",
     "shell.execute_reply": "2024-12-30T07:10:31.250744Z",
     "shell.execute_reply.started": "2024-12-30T07:10:31.115113Z"
    }
   },
   "outputs": [
    {
     "name": "stdout",
     "output_type": "stream",
     "text": [
      "        order_id                     product  quantity  price_each order_date  \\\n",
      "0         176558        USB-C Charging Cable         2       11.95 2019-04-19   \n",
      "1         176559  Bose SoundSport Headphones         1       99.99 2019-04-07   \n",
      "2         176560                Google Phone         1      600.00 2019-04-12   \n",
      "3         176560            Wired Headphones         1       11.99 2019-04-12   \n",
      "4         176561            Wired Headphones         1       11.99 2019-04-30   \n",
      "...          ...                         ...       ...         ...        ...   \n",
      "185945    259353      AAA Batteries (4-pack)         3        2.99 2019-09-17   \n",
      "185946    259354                      iPhone         1      700.00 2019-09-01   \n",
      "185947    259355                      iPhone         1      700.00 2019-09-23   \n",
      "185948    259356      34in Ultrawide Monitor         1      379.99 2019-09-19   \n",
      "185949    259357        USB-C Charging Cable         1       11.95 2019-09-30   \n",
      "\n",
      "                               purchase_address  \n",
      "0                  917 1st St, Dallas, TX 75001  \n",
      "1             682 Chestnut St, Boston, MA 02215  \n",
      "2          669 Spruce St, Los Angeles, CA 90001  \n",
      "3          669 Spruce St, Los Angeles, CA 90001  \n",
      "4             333 8th St, Los Angeles, CA 90001  \n",
      "...                                         ...  \n",
      "185945   840 Highland St, Los Angeles, CA 90001  \n",
      "185946  216 Dogwood St, San Francisco, CA 94016  \n",
      "185947     220 12th St, San Francisco, CA 94016  \n",
      "185948   511 Forest St, San Francisco, CA 94016  \n",
      "185949   250 Meadow St, San Francisco, CA 94016  \n",
      "\n",
      "[185950 rows x 6 columns]\n"
     ]
    }
   ],
   "source": [
    "# Fetch all rows from the 'sales' table\n",
    "sales_data = conn.execute(\"SELECT * FROM sales\").fetchdf()\n",
    "print(sales_data)"
   ]
  },
  {
   "cell_type": "code",
   "execution_count": null,
   "id": "f0206437-d633-45a1-925f-30f2d3045064",
   "metadata": {},
   "outputs": [],
   "source": []
  }
 ],
 "metadata": {
  "kernelspec": {
   "display_name": "Python [conda env:base] *",
   "language": "python",
   "name": "conda-base-py"
  },
  "language_info": {
   "codemirror_mode": {
    "name": "ipython",
    "version": 3
   },
   "file_extension": ".py",
   "mimetype": "text/x-python",
   "name": "python",
   "nbconvert_exporter": "python",
   "pygments_lexer": "ipython3",
   "version": "3.12.7"
  }
 },
 "nbformat": 4,
 "nbformat_minor": 5
}
